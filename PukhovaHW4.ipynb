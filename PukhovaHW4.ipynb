{
  "cells": [
    {
      "cell_type": "markdown",
      "metadata": {
        "id": "view-in-github",
        "colab_type": "text"
      },
      "source": [
        "<a href=\"https://colab.research.google.com/github/Fluffstassy/HW_4/blob/main/PukhovaHW4.ipynb\" target=\"_parent\"><img src=\"https://colab.research.google.com/assets/colab-badge.svg\" alt=\"Open In Colab\"/></a>"
      ]
    },
    {
      "cell_type": "markdown",
      "source": [
        "Вам нужно помочь секретарю автоматизировать работу. Для этого нужно написать программу, которая будет на основе хранимых данных исполнять пользовательские команды."
      ],
      "metadata": {
        "id": "khstyo-KY7ub"
      }
    },
    {
      "cell_type": "code",
      "execution_count": null,
      "metadata": {
        "id": "GWas2gpcKDZP"
      },
      "outputs": [],
      "source": [
        "documents = [\n",
        "{'type': 'passport', 'number': '2207 876234', 'name': 'Василий Гупкин'},\n",
        "{'type': 'invoice', 'number': '11-2', 'name': 'Геннадий Покемонов'},\n",
        "{'type': 'insurance', 'number': '10006', 'name': 'Аристарх Павлов'}\n",
        "]\n",
        "\n",
        "directories = {\n",
        "'1': ['2207 876234', '11-2'],\n",
        "'2': ['10006'],\n",
        "'3': []\n",
        "}"
      ]
    },
    {
      "cell_type": "markdown",
      "metadata": {
        "id": "hhNTStzIAdgK"
      },
      "source": [
        "# Задание 1\n",
        "Пользователь по команде “p” может узнать владельца документа по его номеру"
      ]
    },
    {
      "cell_type": "code",
      "execution_count": null,
      "metadata": {
        "id": "F0dL4qtLAuVS"
      },
      "outputs": [],
      "source": [
        "\n",
        "def owner(number_doc): #Функция возвращает имя владельца документа\n",
        "\n",
        "    owner_name = ''\n",
        "    for a in documents:\n",
        "        if a['number'] == number_doc:\n",
        "            owner_name = 'Владелец: ' + a['name']\n",
        "    if owner_name == '': \n",
        "        owner_name = 'Документ не найден'\n",
        "    return owner_name"
      ]
    },
    {
      "cell_type": "markdown",
      "metadata": {
        "id": "2hK8MAvRAuf6"
      },
      "source": [
        "# Задание 2\n",
        "Пользователь по команде “s” может по номеру документа узнать на какой полке он хранится"
      ]
    },
    {
      "cell_type": "code",
      "execution_count": null,
      "metadata": {
        "id": "KtyiUESeAvxS"
      },
      "outputs": [],
      "source": [
        "def doc_dir(number_doc): #Функция возвращает номер полки, на которой находится документ\n",
        "  \n",
        "    shelf = ''\n",
        "    for item, values in directories.items():\n",
        "        if number_doc in values:\n",
        "            shelf = 'Документ на полке: ' + item\n",
        "    if shelf == '':\n",
        "        shelf = 'Документ не найден'\n",
        "    return shelf"
      ]
    },
    {
      "cell_type": "markdown",
      "metadata": {
        "id": "9v6RTwlSBBCi"
      },
      "source": [
        "# Задание 3\n",
        "Пользователь по команде “l” может увидеть полную информацию по всем документам"
      ]
    },
    {
      "cell_type": "code",
      "execution_count": null,
      "metadata": {
        "id": "fjZ_FmHEBCYC"
      },
      "outputs": [],
      "source": [
        "def register_doc(): #Функция возвращает все данные о документах на всех полках\n",
        "  \n",
        "    for b in documents:\n",
        "        for item, values in directories.items():\n",
        "            if b['number'] in values:\n",
        "                print('№ ' + b['number'] + ', Тип: ' + b['type'] + ', Владелец: ' + b['name'] + ', Полка: ' + item)"
      ]
    },
    {
      "cell_type": "markdown",
      "metadata": {
        "id": "7Iz9bJXUBCfi"
      },
      "source": [
        "# Задание 4\n",
        "Пользователь по команде “ads” может добавить новую полку"
      ]
    },
    {
      "cell_type": "code",
      "execution_count": null,
      "metadata": {
        "id": "POtLnLuqOhJ1"
      },
      "outputs": [],
      "source": [
        "def shelf_list(): #Функция возвращает список всех имеющихся полок\n",
        "    \n",
        "    list_shelf = ''\n",
        "    for item, values in directories.items():\n",
        "        list_shelf = list_shelf + item + ',' \n",
        "    list_shelf = list_shelf[:-1] + '.'\n",
        "    return list_shelf"
      ]
    },
    {
      "cell_type": "code",
      "execution_count": null,
      "metadata": {
        "id": "vwBdFoxKBD5S"
      },
      "outputs": [],
      "source": [
        "def add_shelf(number_shelf): #Функция добавляет полку и выводит список всех имеющихся полок\n",
        "  \n",
        "    count = 0\n",
        "    for item, values in directories.items():\n",
        "        if number_shelf in item:\n",
        "            count = 1\n",
        "    if count == 1:\n",
        "        print('Такая полка уже существует')\n",
        "    else:\n",
        "        directories[number_shelf]=[]\n",
        "        print('Полка добавлена. Существующие полки: '+ shelf_list())"
      ]
    },
    {
      "cell_type": "markdown",
      "metadata": {
        "id": "ykl5WFSVBEGC"
      },
      "source": [
        "# Задание 5\n",
        "Пользователь по команде “ds” может удалить существующую полку из данных (только если она пустая)"
      ]
    },
    {
      "cell_type": "code",
      "execution_count": null,
      "metadata": {
        "id": "YV1zIJyYBFIi"
      },
      "outputs": [],
      "source": [
        "def del_shelf(number_shelf): #Функция удалает полку, если она пустая\n",
        "   \n",
        "    count = 0\n",
        "    for item, values in directories.items():\n",
        "        if number_shelf in item:\n",
        "            count = 1\n",
        "            if values != []:\n",
        "                count = 2\n",
        "    if count == 1:\n",
        "        del directories[number_shelf]\n",
        "        print('Полка удалена. Текущий перечень полок: ' + shelf_list())\n",
        "    elif count == 2:\n",
        "        print('На полке есть документ, удалите их перед удалением полки. Текущий перечень полок: ' + shelf_list())\n",
        "    else:\n",
        "        print('Такой полки нет')"
      ]
    },
    {
      "cell_type": "code",
      "execution_count": null,
      "metadata": {
        "id": "GfjwS0USAQ-1"
      },
      "outputs": [],
      "source": [
        "def main(): #Основная функция \n",
        "    \n",
        "    i = 0\n",
        "    while i < 1:\n",
        "        command_input = input('Введите команду: ')\n",
        "        if command_input == 'p':\n",
        "            number_input = input('Введите номер документа: ')\n",
        "            print(owner(number_input))\n",
        "        elif command_input == 's':\n",
        "            number_input = input('Введите номер документа: ')\n",
        "            print(doc_dir(number_input))\n",
        "        elif command_input == 'l':\n",
        "            register_doc()\n",
        "        elif command_input == 'ads':\n",
        "            number_input = input('Введите номер полки: ')\n",
        "            add_shelf(number_input)\n",
        "        elif command_input == 'ds':\n",
        "            number_input = input('Введите номер полки: ')\n",
        "            del_shelf(number_input)\n",
        "        elif command_input == 'q':\n",
        "            break\n",
        "        else:\n",
        "            print('Такой команды нет')"
      ]
    },
    {
      "cell_type": "code",
      "execution_count": null,
      "metadata": {
        "id": "_F-xDEYCHUFl"
      },
      "outputs": [],
      "source": [
        "main()"
      ]
    },
    {
      "cell_type": "code",
      "source": [],
      "metadata": {
        "id": "cDTSprF5_MNH"
      },
      "execution_count": null,
      "outputs": []
    }
  ],
  "metadata": {
    "colab": {
      "collapsed_sections": [],
      "provenance": [],
      "include_colab_link": true
    },
    "kernelspec": {
      "display_name": "Python 3",
      "name": "python3"
    },
    "language_info": {
      "name": "python"
    }
  },
  "nbformat": 4,
  "nbformat_minor": 0
}